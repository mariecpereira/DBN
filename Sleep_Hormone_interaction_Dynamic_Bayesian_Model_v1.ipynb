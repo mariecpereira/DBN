{
 "cells": [
  {
   "cell_type": "markdown",
   "metadata": {
    "colab_type": "text",
    "id": "6z6lkUr1t711"
   },
   "source": [
    "# Dynamic Bayesian Model - Sleep and Hormone interaction\n"
   ]
  },
  {
   "cell_type": "markdown",
   "metadata": {
    "colab_type": "text",
    "id": "sXeGEN8kt714"
   },
   "source": [
    "In this notebook I intend to test the `pgmpy` toolbox to creat a Dynamic Bayesian Model to infere the interactions between sleep stages and hormone, in this case either Cortisol or Growth Hormone, interactions. \n",
    "\n",
    "Ideally, this DBN would have t=23 and 5 latency sleep stages as initial conditions."
   ]
  },
  {
   "cell_type": "code",
   "execution_count": 35,
   "metadata": {
    "colab": {
     "base_uri": "https://localhost:8080/",
     "height": 51
    },
    "colab_type": "code",
    "id": "A6APV9gn2nPB",
    "outputId": "00e29f7b-929b-430a-ca1e-51d92f8a678c"
   },
   "outputs": [],
   "source": [
    "# Loading required libraries\n",
    "from matplotlib import pyplot as plt\n",
    "from matplotlib import colors \n",
    "import networkx as nx\n",
    "import pgmpy\n",
    "from pgmpy.inference import VariableElimination #module needed for drawing inferences\n",
    "from pgmpy.models import DynamicBayesianNetwork as DBN #module needed for creating model\n",
    "from pgmpy.factors.discrete import TabularCPD\n",
    "import sys \n",
    "%matplotlib inline"
   ]
  },
  {
   "cell_type": "code",
   "execution_count": 39,
   "metadata": {},
   "outputs": [
    {
     "data": {
      "image/png": "[encoded data removed]",
      "text/plain": [
       "<Figure size 720x576 with 1 Axes>"
      ]
     },
     "metadata": {},
     "output_type": "display_data"
    }
   ],
   "source": [
    "# Creating and visualising the DAG of the DBN model\n",
    "\n",
    "g = nx.DiGraph()\n",
    "g.add_node(\"SleepL\", attrs={\"coords\": (1., 6), \"display_form\": r\"$Sleep$\", \"observed\": False, \"color\": colors.to_rgb(\"grey\")})\n",
    "g.add_node(\"SRatio\", attrs={\"coords\": (1.1, 5.2), \"display_form\": r\"$SRatio$\", \"observed\": True, \"color\": colors.to_rgb(\"green\")})\n",
    "g.add_node(\"ObsL\", attrs={\"coords\": (1, 5.0), \"display_form\": r\"$Obs$\", \"observed\": False, \"color\": colors.to_rgb(\"grey\")})\n",
    "g.add_node(\"Hormone\", attrs={\"coords\": (1., 4.0), \"display_form\": r\"$Hormone$\", \"observed\": True, \"color\": colors.to_rgb(\"green\")})\n",
    "\n",
    "g.add_edge(\"SleepL\", \"SRatio\")  #add link from latent Sleep node to observed SRatio (sleep ratio) node \n",
    "g.add_edge(\"SleepL\", \"ObsL\")  #add link from latent Sleep node to latent observation node \n",
    "g.add_edge(\"ObsL\", \"Hormone\")   #add link from latent observation node to observed Hormone node \n",
    "\n",
    "fig, axis = plt.subplots(figsize=(10, 8))\n",
    "axis.set_axis_off()\n",
    "axis.grid()\n",
    "nx.draw_networkx(g, pos={item: g.node[item][\"attrs\"][\"coords\"] for item in g.nodes()},  \n",
    "                 ax=axis,node_size=1500,\n",
    "                 node_color=[g.node[item][\"attrs\"][\"color\"] for item in g.nodes()],\n",
    "                 width = 2.0) \n",
    "mapping={\"SleepL\":\"A\"}\n",
    "g=nx.relabel_nodes(g,mapping,copy=False)"
   ]
  },
  {
   "cell_type": "code",
   "execution_count": 41,
   "metadata": {},
   "outputs": [],
   "source": [
    "# DBN implementation for t and t+1 only\n",
    "\n",
    "hormone_DBN= DBN() #create empty DBN structure\n",
    "\n",
    "#Create graph for time slice t\n",
    "hormone_DBN.add_edges_from([(('SleepL', 0),('SRatio', 0))]) \n",
    "hormone_DBN.add_edges_from([(('SleepL', 0),('ObsL', 0))]) \n",
    "hormone_DBN.add_edges_from([(('ObsL', 0),('Hormone', 0))])\n",
    "\n",
    "#Create graph for time slice t+1\n",
    "hormone_DBN.add_edges_from([(('SleepL', 1),('SRatio', 1))])\n",
    "hormone_DBN.add_edges_from([(('SleepL', 1),('ObsL', 1))])\n",
    "hormone_DBN.add_edges_from([(('ObsL', 1),('Hormone', 1))])\n",
    "#hormone_DBN.add_edge(('SleepL', 1),('ObsL', 0)) Not possible to create backward nodes\n",
    "\n",
    "#connect time slice t with time slice t+1\n",
    "hormone_DBN.add_edges_from([(('SleepL', 0),('SleepL', 1))])\n",
    "hormone_DBN.add_edges_from([(('SRatio', 0),('ObsL', 1))])\n",
    "\n",
    "#define CPDs for all of the nodes \n",
    "SleepL_cpd = TabularCPD(('SleepL',0),2,[[0.0, 1.0]]) #the node has two possible states: clear(0) or cloudy(1)\n",
    "SRatio_cpd = TabularCPD(('SRatio',0),2,[[1.0, 0.0],[0.0, 1.0]],evidence=[('SleepL',0)], evidence_card=[2]) \n",
    "ObsL_cpd   = TabularCPD(('ObsL',0),  2,[[1.0, 0.0],[0.0, 1.0]],evidence=[('SleepL',0)], evidence_card=[2]) #the node has 2 possible states: clear or rainy\n",
    "Hormone_cpd= TabularCPD(('Hormone',0),2,[[1.0, 0.0, 0.0, 1.0]],evidence=[('ObsL',0)], evidence_card=[2]) \n",
    "\n",
    "SleepL2_cpd = TabularCPD(('SleepL',1),2,[[1.0, 0.0, 0.0, 1.0]],evidence=[('SleepL',0)], evidence_card=[2]) #the node has 2 possible states: clear or rainy\n",
    "SRatio2_cpd = TabularCPD(('SRatio',1),2,[[1.0, 0.0],[0.0, 1.0]],evidence=[('SleepL',1)], evidence_card=[2]) \n",
    "ObsL2_cpd   = TabularCPD(('ObsL',1),2,[[1.0, 0.0, 1.0, 0.0],[0.0, 1.0, 0.0, 1.0]],evidence=[('SRatio',0),('SleepL',1)], evidence_card=[2,2]) \n",
    "Hormone2_cpd= TabularCPD(('Hormone',1),2,[[1.0, 0.0, 0.0, 1.0]],evidence=[('ObsL',1)], evidence_card=[2]) \n",
    "\n",
    "hormone_DBN.add_cpds(SleepL_cpd,SRatio_cpd,ObsL_cpd,Hormone_cpd,SleepL2_cpd,SRatio2_cpd,ObsL2_cpd,Hormone2_cpd) #add all CPDs\n"
   ]
  },
  {
   "cell_type": "code",
   "execution_count": 25,
   "metadata": {
    "colab": {},
    "colab_type": "code",
    "id": "Z6avJeODt72X",
    "outputId": "3e118bb8-2b05-43ce-9b3c-8c6478386fde"
   },
   "outputs": [
    {
     "name": "stdout",
     "output_type": "stream",
     "text": [
      "+----------------+------------------+------------------+------------------+------------------+\n",
      "| ('SRatio', 0)  | ('SRatio', 0)(0) | ('SRatio', 0)(0) | ('SRatio', 0)(1) | ('SRatio', 0)(1) |\n",
      "+----------------+------------------+------------------+------------------+------------------+\n",
      "| ('SleepL', 1)  | ('SleepL', 1)(0) | ('SleepL', 1)(1) | ('SleepL', 1)(0) | ('SleepL', 1)(1) |\n",
      "+----------------+------------------+------------------+------------------+------------------+\n",
      "| ('ObsL', 1)(0) | 1.0              | 0.0              | 1.0              | 0.0              |\n",
      "+----------------+------------------+------------------+------------------+------------------+\n",
      "| ('ObsL', 1)(1) | 0.0              | 1.0              | 0.0              | 1.0              |\n",
      "+----------------+------------------+------------------+------------------+------------------+\n"
     ]
    }
   ],
   "source": [
    "# Example inference - not valide with the evidence provided above\n",
    "print(ObsL2_cpd)"
   ]
  }
 ],
 "metadata": {
  "colab": {
   "collapsed_sections": [],
   "name": "A DYNAMIC BAYESIAN NETWORK FOR WEATHER FORECAST.ipynb",
   "provenance": []
  },
  "kernelspec": {
   "display_name": "Python 3",
   "language": "python",
   "name": "python3"
  },
  "language_info": {
   "codemirror_mode": {
    "name": "ipython",
    "version": 3
   },
   "file_extension": ".py",
   "mimetype": "text/x-python",
   "name": "python",
   "nbconvert_exporter": "python",
   "pygments_lexer": "ipython3",
   "version": "3.7.4"
  }
 },
 "nbformat": 4,
 "nbformat_minor": 1
}
